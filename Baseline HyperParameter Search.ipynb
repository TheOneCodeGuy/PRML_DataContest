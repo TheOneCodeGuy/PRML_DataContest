{
 "cells": [
  {
   "cell_type": "code",
   "execution_count": null,
   "metadata": {},
   "outputs": [],
   "source": [
    "def run_gradient_descent(n_epochs, batch_size, data, eta):\n",
    "    \n",
    "    # Unknown parameters\n",
    "    a = np.zeros(n_users)  # User variations\n",
    "    b = np.zeros(n_movies) # Movie variations\n",
    "    \n",
    "    mu = np.mean(data['rating'])\n",
    "    predictions = np.zeros(len(data))\n",
    "    n_batches = int(len(data)/batch_size)\n",
    "    \n",
    "    # Create indices for every batch\n",
    "    # Of the form [-1, batch_size, 2*batchsize, ... len(data)]\n",
    "    indices = [batch_size*x for x in range(n_batches)]\n",
    "    indices[0] = -1\n",
    "    indices.append(len(data) - 1)\n",
    "\n",
    "    # Gradient Descent Begins\n",
    "    print('Batch Size - ', batch_size, 'Eta - ', eta)\n",
    "    \n",
    "    for epoch in range(n_epochs):\n",
    "    \n",
    "        # Display for every epoch - Epoch number and error\n",
    "        print('Epoch-',(epoch+1),'/',n_epochs)\n",
    "        err = np.mean(abs(data['rating'] - predictions));\n",
    "        print('Error =',err)\n",
    "\n",
    "        # For every mini-batch\n",
    "        for batch_no in range(n_batches):\n",
    "\n",
    "            # Select mini-batch\n",
    "            batch = data.loc[indices[batch_no]+1:indices[batch_no+1]]\n",
    "\n",
    "            # Predictions for the selected mini-batch using the current a and b\n",
    "            for index, x in batch.iterrows():\n",
    "                predictions[index] = mu + a[int(x['userId'])] + b[int(x['movieId'])]\n",
    "\n",
    "            # Updating a and b using the predictions on the current mini-batch\n",
    "            for index, x in batch.iterrows():\n",
    "                mu = mu + eta * (x['rating'] - predictions[index])\n",
    "                a[int(x['userId'])] = a[int(x['userId'])] + eta * (x['rating'] - predictions[index])\n",
    "                b[int(x['movieId'])] = b[int(x['movieId'])] + eta * (x['rating'] - predictions[index])\n",
    "            \n",
    "    return predictions"
   ]
  },
  {
   "cell_type": "code",
   "execution_count": null,
   "metadata": {},
   "outputs": [],
   "source": [
    "import numpy as np\n",
    "import pandas as pd\n",
    "\n",
    "# Import files\n",
    "filename = 'data/train.csv'\n",
    "data = pd.read_csv(filename)\n",
    "\n",
    "n_movies = 10000\n",
    "n_users = 10000\n",
    "\n",
    "# Gradiet Descent Hyperparameters\n",
    "n_epochs = 5\n",
    "\n",
    "for batch_size in [1000, 5000, 10000, 25000, 50000]:\n",
    "    for eta in [0.0001, 0.001, 0.01]:\n",
    "        predictions = run_gradient_descent(n_epochs, batch_size, data, eta)\n",
    "        error = np.mean(abs(data['rating'] - predictions))\n",
    "        if error < min_err:\n",
    "            min_err = error\n",
    "            selection = (batch_size, eta)\n",
    "\n",
    "print(selection)"
   ]
  }
 ],
 "metadata": {
  "kernelspec": {
   "display_name": "Python 3",
   "language": "python",
   "name": "python3"
  },
  "language_info": {
   "codemirror_mode": {
    "name": "ipython",
    "version": 3
   },
   "file_extension": ".py",
   "mimetype": "text/x-python",
   "name": "python",
   "nbconvert_exporter": "python",
   "pygments_lexer": "ipython3",
   "version": "3.6.5"
  }
 },
 "nbformat": 4,
 "nbformat_minor": 2
}
